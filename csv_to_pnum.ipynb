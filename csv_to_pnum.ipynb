{
 "cells": [
  {
   "cell_type": "code",
   "execution_count": 1,
   "metadata": {},
   "outputs": [],
   "source": [
    "import pandas as pd\n",
    "import numpy as np\n",
    "import sys"
   ]
  },
  {
   "cell_type": "code",
   "execution_count": 3,
   "metadata": {},
   "outputs": [],
   "source": [
    "keylist = pd.read_csv(\"/Users/kevin/Desktop/Lab/IVH_Project/data/keylist.csv\", sep=\",\")\n",
    "\n",
    "plist = pd.read_csv(\"/Users/kevin/Desktop/Lab/IVH_Project/data/plist.csv\", sep=\",\")\n",
    "\n",
    "mdi = pd.read_csv(\"/Users/kevin/Desktop/Lab/IVH_Project/data/mdi.csv\", sep=\",\")\n",
    "mdo = pd.read_csv(\"/Users/kevin/Desktop/Lab/IVH_Project/data/mdo.csv\", sep=\",\")\n",
    "mus1 = pd.read_csv(\"/Users/kevin/Desktop/Lab/IVH_Project/data/mus1.csv\", sep=\",\")\n",
    "mus2 = pd.read_csv(\"/Users/kevin/Desktop/Lab/IVH_Project/data/mus2.csv\", sep=\",\")\n",
    "mus3 = pd.read_csv(\"/Users/kevin/Desktop/Lab/IVH_Project/data/mus3.csv\", sep=\",\")\n",
    "mdd = pd.read_csv(\"/Users/kevin/Desktop/Lab/IVH_Project/data/mdd.csv\", sep=\",\")\n",
    "\n",
    "pdr = pd.read_csv(\"/Users/kevin/Desktop/Lab/IVH_Project/data/pdr.csv\", sep=\",\")\n",
    "pcrd = pd.read_csv(\"/Users/kevin/Desktop/Lab/IVH_Project/data/pcrd.csv\", sep=\",\")\n",
    "lab = pd.read_csv(\"/Users/kevin/Desktop/Lab/IVH_Project/data/lab.csv\", sep=\",\")\n",
    "pmo = pd.read_csv(\"/Users/kevin/Desktop/Lab/IVH_Project/data/pmo.csv\", sep=\",\")\n",
    "io = pd.read_csv(\"/Users/kevin/Desktop/Lab/IVH_Project/data/io.csv\", sep=\",\")\n",
    "pv = pd.read_csv(\"/Users/kevin/Desktop/Lab/IVH_Project/data/pv.csv\", sep=\",\")\n",
    "hnu = pd.read_csv(\"/Users/kevin/Desktop/Lab/IVH_Project/data/hnu.csv\", sep=\",\")\n",
    "pdo = pd.read_csv(\"/Users/kevin/Desktop/Lab/IVH_Project/data/pdo.csv\", sep=\",\")\n",
    "pdi = pd.read_csv(\"/Users/kevin/Desktop/Lab/IVH_Project/data/pdi.csv\", sep=\",\")\n",
    "psg = pd.read_csv(\"/Users/kevin/Desktop/Lab/IVH_Project/data/psg.csv\", sep=\",\")\n",
    "hus = pd.read_csv(\"/Users/kevin/Desktop/Lab/IVH_Project/data/hus.csv\", sep=\",\")"
   ]
  },
  {
   "cell_type": "code",
   "execution_count": 4,
   "metadata": {},
   "outputs": [],
   "source": [
    "pnum_header = pd.read_excel(\"/Users/kevin/Desktop/Lab/IVH_Project/data/header.xlsx\",\n",
    "                                 header = 0,\n",
    "                                )"
   ]
  },
  {
   "cell_type": "code",
   "execution_count": 5,
   "metadata": {},
   "outputs": [],
   "source": [
    "for pnum in range(446):\n",
    "    pid = keylist['pid'].loc[pnum]\n",
    "    pid_mom = keylist['pid_mom'].loc[pnum]\n",
    "\n",
    "    pnum_mdi = pd.DataFrame(mdi[mdi.pid_mom == pid_mom])\n",
    "    pnum_mdo = pd.DataFrame(mdo[mdo.pid_mom == pid_mom])\n",
    "    pnum_mus1 = pd.DataFrame(mus1[mus1.pid_mom == pid_mom])\n",
    "    pnum_mus2 = pd.DataFrame(mus2[mus2.pid_mom == pid_mom])\n",
    "    pnum_mus3 = pd.DataFrame(mus3[mus3.pid_mom == pid_mom])\n",
    "    pnum_pdr = pd.DataFrame(pdr[pdr.pid_mom == pid_mom])\n",
    "\n",
    "    pnum_header.to_csv('%d.csv'%pnum, sep=',', na_rep='NaN', mode='a', index = False)\n",
    "    pnum_mdi.to_csv('%d.csv'%pnum, sep=',', na_rep='NaN', mode='a', header = None, index = False)\n",
    "    pnum_mdo.to_csv('%d.csv'%pnum, sep=',', na_rep='NaN', mode='a', header = None, index = False)\n",
    "    pnum_mus1.to_csv('%d.csv'%pnum, sep=',', na_rep='NaN', mode='a', header = None, index = False)\n",
    "    pnum_mus2.to_csv('%d.csv'%pnum, sep=',', na_rep='NaN', mode='a', header = None, index = False)\n",
    "    pnum_mus3.to_csv('%d.csv'%pnum, sep=',', na_rep='NaN', mode='a', header = None, index = False)\n",
    "    pnum_pdr.to_csv('%d.csv'%pnum, sep=',', na_rep='NaN', mode='a', header = None, index = False)\n",
    "    \n",
    "    \n",
    "    pnum_pcrd = pd.DataFrame(pcrd[pcrd.pid == pid])\n",
    "    pnum_lab = pd.DataFrame(lab[lab.pid == pid])\n",
    "    pnum_pmo = pd.DataFrame(pmo[pmo.pid == pid])\n",
    "    pnum_io = pd.DataFrame(io[io.pid == pid])\n",
    "    pnum_pv = pd.DataFrame(pv[pv.pid == pid])\n",
    "    pnum_hnu = pd.DataFrame(hnu[hnu.pid == pid])\n",
    "    pnum_pdo = pd.DataFrame(pdo[pdo.pid == pid])\n",
    "    pnum_pdi = pd.DataFrame(pdi[pdi.pid == pid])\n",
    "    pnum_psg = pd.DataFrame(psg[psg.pid == pid])\n",
    "    pnum_hus = pd.DataFrame(hus[hus.pid == pid]) \n",
    "    \n",
    "    pnum_pcrd.sort_index(axis=1)\n",
    "    \n",
    "    pnum_pcrd.to_csv('%d.csv'%pnum, sep=',', na_rep='NaN', mode='a', header = None, index = False)\n",
    "    pnum_lab.to_csv('%d.csv'%pnum, sep=',', na_rep='', mode='a', header = None, index = False)\n",
    "    pnum_pmo.to_csv('%d.csv'%pnum, sep=',', na_rep='NaN', mode='a', header = None, index = False)\n",
    "    pnum_io.to_csv('%d.csv'%pnum, sep=',', na_rep='NaN', mode='a', header = None, index = False)\n",
    "    pnum_pv.to_csv('%d.csv'%pnum, sep=',', na_rep='NaN', mode='a', header = None, index = False)\n",
    "    pnum_hnu.to_csv('%d.csv'%pnum, sep=',', na_rep='NaN', mode='a', header = None, index = False)\n",
    "    pnum_pdo.to_csv('%d.csv'%pnum, sep=',', na_rep='NaN', mode='a', header = None, index = False)\n",
    "    pnum_pdi.to_csv('%d.csv'%pnum, sep=',', na_rep='NaN', mode='a', header = None, index = False)\n",
    "    pnum_psg.to_csv('%d.csv'%pnum, sep=',', na_rep='NaN', mode='a', header = None, index = False)\n",
    "    pnum_hus.to_csv('%d.csv'%pnum, sep=',', na_rep='NaN', mode='a', header = None, index = False)\n",
    "    \n",
    "    "
   ]
  }
 ],
 "metadata": {
  "kernelspec": {
   "display_name": "Python 3",
   "language": "python",
   "name": "python3"
  },
  "language_info": {
   "codemirror_mode": {
    "name": "ipython",
    "version": 3
   },
   "file_extension": ".py",
   "mimetype": "text/x-python",
   "name": "python",
   "nbconvert_exporter": "python",
   "pygments_lexer": "ipython3",
   "version": "3.6.8"
  }
 },
 "nbformat": 4,
 "nbformat_minor": 2
}
