{
 "cells": [
  {
   "cell_type": "code",
   "execution_count": 1,
   "metadata": {},
   "outputs": [],
   "source": [
    "import pandas as pd"
   ]
  },
  {
   "cell_type": "code",
   "execution_count": 8,
   "metadata": {
    "scrolled": false
   },
   "outputs": [],
   "source": [
    "for pnum in range(446):\n",
    "    buf = pd.read_csv(\"/Users/kevin/Desktop/Lab/IVH_Project/data/%d.csv\"%pnum,\n",
    "                      sep=\",\",\n",
    "                      dtype = {'pid':str,\n",
    "                               'timestamp':str,\n",
    "                               'tag':str,\n",
    "                               'data_0':str,\n",
    "                               'data_1':str,\n",
    "                               'data_2':str,\n",
    "                               'data_3':str,\n",
    "                               'data_4':str,\n",
    "                               'data_5':str,\n",
    "                               'data_6':str,\n",
    "                               'data_7':str,\n",
    "                               'data_8':str,\n",
    "                               'data_9':str,\n",
    "                               'data_10':str,\n",
    "                               'data_11':str,\n",
    "                               'data_12':str,\n",
    "                               'data_13':str,\n",
    "                               'data_14':str,\n",
    "                               'data_15':str,\n",
    "                               'data_16':str,\n",
    "                               'data_17':str,\n",
    "                               'data_18':str\n",
    "                                         }\n",
    "                     )\n",
    "    buf = buf.sort_values([\"timestamp\"], ascending=[True])\n",
    "    buf = buf.reset_index(drop=True)\n",
    "\n",
    "    buf.to_csv('sort_%d.csv'%pnum, sep=',', na_rep='pedd', mode='a', index = False)"
   ]
  }
 ],
 "metadata": {
  "kernelspec": {
   "display_name": "Python 3",
   "language": "python",
   "name": "python3"
  },
  "language_info": {
   "codemirror_mode": {
    "name": "ipython",
    "version": 3
   },
   "file_extension": ".py",
   "mimetype": "text/x-python",
   "name": "python",
   "nbconvert_exporter": "python",
   "pygments_lexer": "ipython3",
   "version": "3.6.8"
  }
 },
 "nbformat": 4,
 "nbformat_minor": 2
}
